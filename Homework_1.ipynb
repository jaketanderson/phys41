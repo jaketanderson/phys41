{
 "cells": [
  {
   "cell_type": "markdown",
   "id": "f06edde9-56bd-4529-93b4-8e62d375463d",
   "metadata": {},
   "source": [
    "# Phys 41 Homework 1 Jake Anderson 1/11/2024"
   ]
  },
  {
   "cell_type": "markdown",
   "id": "fe254937-71df-4d27-8559-fd96df2c444d",
   "metadata": {},
   "source": [
    "## Problem 1: Basic python"
   ]
  },
  {
   "cell_type": "code",
   "execution_count": 1,
   "id": "108b6a4e-4583-4f23-a802-92320a37548c",
   "metadata": {},
   "outputs": [],
   "source": [
    "a = 5\n",
    "b = 7\n",
    "c = 3.14\n",
    "d = 99.2"
   ]
  },
  {
   "cell_type": "code",
   "execution_count": 2,
   "id": "a1f7ecf2-0099-43a2-a95d-3ea57b16dccc",
   "metadata": {},
   "outputs": [
    {
     "data": {
      "text/plain": [
       "156.59064522818883"
      ]
     },
     "execution_count": 2,
     "metadata": {},
     "output_type": "execute_result"
    }
   ],
   "source": [
    "a**c"
   ]
  },
  {
   "cell_type": "code",
   "execution_count": 3,
   "id": "aeb321b4-008e-473e-9a91-289d675a8a53",
   "metadata": {},
   "outputs": [
    {
     "data": {
      "text/plain": [
       "136.88"
      ]
     },
     "execution_count": 3,
     "metadata": {},
     "output_type": "execute_result"
    }
   ],
   "source": [
    "((a + b) * c) + d"
   ]
  },
  {
   "cell_type": "code",
   "execution_count": 4,
   "id": "9e148605-e87b-46c3-846c-003e8f17cb7e",
   "metadata": {},
   "outputs": [
    {
     "data": {
      "text/plain": [
       "0.7459389400921659"
      ]
     },
     "execution_count": 4,
     "metadata": {},
     "output_type": "execute_result"
    }
   ],
   "source": [
    "(a / b) + (c / d)"
   ]
  },
  {
   "cell_type": "code",
   "execution_count": 5,
   "id": "2a9ebcb8-58f3-4547-835e-2c90e40272b8",
   "metadata": {},
   "outputs": [
    {
     "data": {
      "text/plain": [
       "[0, 1, 2, 3, 4, 10, 11, 12, 13, 14]"
      ]
     },
     "execution_count": 5,
     "metadata": {},
     "output_type": "execute_result"
    }
   ],
   "source": [
    "list1 = list(range(0, 5))\n",
    "list2 = list(range(10, 15))\n",
    "list1 + list2"
   ]
  },
  {
   "cell_type": "code",
   "execution_count": 6,
   "id": "2022d242-6e35-4fb5-8af5-9e059c75f345",
   "metadata": {},
   "outputs": [
    {
     "name": "stdout",
     "output_type": "stream",
     "text": [
      "3.14\n"
     ]
    }
   ],
   "source": [
    "dict = {\"a\": 5, \"b\": 7, \"c\": 3.14, \"d\": 99.2}\n",
    "print(dict[\"c\"])"
   ]
  },
  {
   "cell_type": "markdown",
   "id": "842ddf48-5936-4844-a94e-fe6d21dace28",
   "metadata": {},
   "source": [
    "## Problem 2: Basic functions"
   ]
  },
  {
   "cell_type": "code",
   "execution_count": 7,
   "id": "eefdedf0-f452-4223-9118-f52d64500a7e",
   "metadata": {},
   "outputs": [],
   "source": [
    "def frequency(items, focus_item):\n",
    "    assert type(items) == list, print(\"The `items` argument must be of type `list`.\")\n",
    "    assert type(focus_item) in [int, float, str], print(\n",
    "        \"The `focus` argument must be of type `int`, `float`, or `str`.\"\n",
    "    )\n",
    "\n",
    "    i = 0\n",
    "    for item in items:\n",
    "        if item == focus_item:\n",
    "            i += 1\n",
    "\n",
    "    return i"
   ]
  },
  {
   "cell_type": "code",
   "execution_count": 8,
   "id": "12172f58-86e2-4ce7-b2ff-37ccfd5c92a3",
   "metadata": {},
   "outputs": [],
   "source": [
    "def sum_and_product(num_list):\n",
    "    assert type(num_list) == list, print(\n",
    "        \"The `num_list` argument must be of type `list`.\"\n",
    "    )\n",
    "    for num in num_list:\n",
    "        assert type(num) in [int, float], print(\n",
    "            \"The entries of `num_list` must all be of type `int` or `float`.\"\n",
    "        )\n",
    "\n",
    "    sum = 0\n",
    "    product = 1\n",
    "    for num in num_list:\n",
    "        sum += num\n",
    "        product *= num\n",
    "\n",
    "    return sum, product"
   ]
  },
  {
   "cell_type": "code",
   "execution_count": 9,
   "id": "129cc09b-386c-4cee-b580-f89cde67b786",
   "metadata": {},
   "outputs": [],
   "source": [
    "def lenient_sum_and_product(num_list):\n",
    "    assert type(num_list) == list, print(\n",
    "        \"The `num_list` argument must be of type `list`.\"\n",
    "    )\n",
    "\n",
    "    sum = 0\n",
    "    product = 1\n",
    "    for num in num_list:\n",
    "        if type(num) not in [int, float]:\n",
    "            print(\n",
    "                f\"{num} is of type {type(num)}, not `int` or `float`; ignoring this entry.\"\n",
    "            )\n",
    "            continue\n",
    "        sum += num\n",
    "        product *= num\n",
    "\n",
    "    return sum, product"
   ]
  },
  {
   "cell_type": "markdown",
   "id": "7cb08d24-77a5-4258-8aa7-c57314172bfb",
   "metadata": {},
   "source": [
    "## Problem 3: More challenging functions"
   ]
  },
  {
   "cell_type": "code",
   "execution_count": 10,
   "id": "96b8b319-ab2f-4652-9bd3-7196ae6735dd",
   "metadata": {},
   "outputs": [
    {
     "name": "stdout",
     "output_type": "stream",
     "text": [
      "0\n",
      "0\n",
      "1\n",
      "3\n",
      "15\n",
      "55\n",
      "5050\n"
     ]
    }
   ],
   "source": [
    "# Improper function:\n",
    "\n",
    "# def mysum(N):\n",
    "#     if N<0:\n",
    "#         return 1\n",
    "#     else:\n",
    "#         return mysum(N)+N\n",
    "\n",
    "# Proper function:\n",
    "\n",
    "\n",
    "def mysum(N):\n",
    "    if N < 0:\n",
    "        return 0\n",
    "        \"\"\"\n",
    "        The problem is slightly ambiguous here, but I believe that when summing\n",
    "        from 1 up to N, if N is negative the sum should evaluate to zero.\n",
    "        \"\"\"\n",
    "    else:\n",
    "        return (\n",
    "            mysum(N - 1) + N\n",
    "        )  # We need to perform `mysum` on the previous value, i.e. N-1\n",
    "\n",
    "\n",
    "for num in [-10, 0, 1, 2, 5, 10, 100]:\n",
    "    print(mysum(num))"
   ]
  },
  {
   "cell_type": "code",
   "execution_count": 11,
   "id": "48222bad-0445-4399-9ca9-b33083ea72bf",
   "metadata": {},
   "outputs": [
    {
     "data": {
      "text/plain": [
       "[-10, 2, 3.14, 18.0, 85, 'era', 'test', 'testing', 'zone']"
      ]
     },
     "execution_count": 11,
     "metadata": {},
     "output_type": "execute_result"
    }
   ],
   "source": [
    "from string import ascii_lowercase\n",
    "\n",
    "\n",
    "def which_string_first(string1, string2):\n",
    "    alphabet = ascii_lowercase\n",
    "    min_length = min([len(string1), len(string2)])\n",
    "    for i in range(0, min_length):\n",
    "        if alphabet.index(string1[i]) < alphabet.index(string2[i]):\n",
    "            return string1\n",
    "        elif alphabet.index(string1[i]) > alphabet.index(string2[i]):\n",
    "            return string2\n",
    "    if len(string1) < len(string2):\n",
    "        return string1\n",
    "    else:\n",
    "        return string2\n",
    "\n",
    "\n",
    "def order(items):\n",
    "    assert type(items) == list, print(\"The `items` argument must be of type `list`.\")\n",
    "    for item in items:\n",
    "        assert type(item) in [int, float, str], print(\n",
    "            \"The entries of `items` must all be of type `int`, `float`, or `str`.\"\n",
    "        )\n",
    "\n",
    "    numbers = []\n",
    "    strings = []\n",
    "    for item in items:\n",
    "        if type(item) in [int, float]:\n",
    "            numbers.append(item)\n",
    "        else:\n",
    "            strings.append(item)\n",
    "\n",
    "    # Sort the numbers\n",
    "    sorted_numbers = []\n",
    "    while (\n",
    "        len(numbers) > 0\n",
    "    ):  # We'll constantly remove the shortest from `numbers` so its length will decrease\n",
    "        smallest = numbers[0]\n",
    "        for num in numbers:\n",
    "            if num < smallest:\n",
    "                smallest = num\n",
    "        sorted_numbers.append(smallest)\n",
    "        numbers.pop(numbers.index(smallest))\n",
    "\n",
    "    # Sort the strings\n",
    "    sorted_strings = []\n",
    "    alphabet = ascii_lowercase\n",
    "    while len(strings) > 0:\n",
    "        first = strings[0]\n",
    "        for string in strings:\n",
    "            first = which_string_first(first, string)\n",
    "        sorted_strings.append(first)\n",
    "        strings.pop(strings.index(first))\n",
    "\n",
    "    return sorted_numbers + sorted_strings\n",
    "\n",
    "\n",
    "order([18.0, -10, 2, \"era\", 85, \"testing\", \"zone\", \"test\", 3.14])"
   ]
  }
 ],
 "metadata": {
  "kernelspec": {
   "display_name": "Python 3 (ipykernel)",
   "language": "python",
   "name": "python3"
  },
  "language_info": {
   "codemirror_mode": {
    "name": "ipython",
    "version": 3
   },
   "file_extension": ".py",
   "mimetype": "text/x-python",
   "name": "python",
   "nbconvert_exporter": "python",
   "pygments_lexer": "ipython3",
   "version": "3.12.1"
  }
 },
 "nbformat": 4,
 "nbformat_minor": 5
}
