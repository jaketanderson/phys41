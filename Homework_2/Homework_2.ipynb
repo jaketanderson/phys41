{
 "cells": [
  {
   "cell_type": "markdown",
   "id": "3230935f-7d3e-4995-9d88-8792a4834bfd",
   "metadata": {},
   "source": [
    "# Phys 41 Homework 2 Jake Anderson 1/21/2024"
   ]
  },
  {
   "cell_type": "code",
   "execution_count": 1,
   "id": "928346dd-e913-48ee-9a81-0951ad6bc1f9",
   "metadata": {},
   "outputs": [],
   "source": [
    "import numpy as np"
   ]
  },
  {
   "cell_type": "markdown",
   "id": "73828ae7-3814-4fbb-8ae5-9e7471e4f217",
   "metadata": {},
   "source": [
    "## Problem 1: Basic numpy"
   ]
  },
  {
   "cell_type": "code",
   "execution_count": 2,
   "id": "c8763463-66f7-4b74-856b-6cfb9007cc52",
   "metadata": {},
   "outputs": [],
   "source": [
    "def wave(t, omega, n, phi):\n",
    "    return np.sin((omega * t) ** n + phi)"
   ]
  },
  {
   "cell_type": "code",
   "execution_count": 3,
   "id": "2ed5286b-c278-4d35-a9ab-1e3ab560a129",
   "metadata": {},
   "outputs": [],
   "source": [
    "def quadratic(a, b, c):\n",
    "    sol1 = (-1 * b + np.sqrt(b**2 - 4 * a * c + 0j)) / (2 * a)\n",
    "    sol2 = (-1 * b - np.sqrt(b**2 - 4 * a * c + 0j)) / (2 * a)\n",
    "    return (sol1, sol2)"
   ]
  },
  {
   "cell_type": "code",
   "execution_count": 4,
   "id": "33b8714a-4b22-4719-98b7-52cff45cc3ec",
   "metadata": {},
   "outputs": [
    {
     "name": "stdout",
     "output_type": "stream",
     "text": [
      "(10, 10, 10)\n",
      "3.0\n"
     ]
    }
   ],
   "source": [
    "def grid_function(grid_points):\n",
    "    x, y, z = grid_points\n",
    "    return x * y**2 + z\n",
    "\n",
    "\n",
    "x = np.linspace(-1, 1, 10)\n",
    "y = np.linspace(-2, 2, 10)\n",
    "z = np.linspace(-3, 3, 10)\n",
    "\n",
    "grid_points = np.meshgrid(x, y, z)\n",
    "result = grid_function(grid_points)\n",
    "print(result.shape)\n",
    "\n",
    "# For a specific point (x, y, z) on the grid, we can get the result there like this:\n",
    "point = [1, 2, -1]\n",
    "x_index = np.where(x == point[0])[0][\n",
    "    0\n",
    "]  # The 2 trailing [0]'s are to get it to an integer\n",
    "y_index = np.where(y == point[1])[0][0]\n",
    "z_index = np.where(z == point[2])[0][0]\n",
    "print(result[x_index][y_index][z_index])"
   ]
  },
  {
   "cell_type": "markdown",
   "id": "46198366-ac91-4a55-9e3d-9e3c743c58a2",
   "metadata": {},
   "source": [
    "## Problem 2: Random numbers"
   ]
  },
  {
   "cell_type": "code",
   "execution_count": 5,
   "id": "2ba4a6e5-bd70-48f6-b1c7-cb512233c8c2",
   "metadata": {},
   "outputs": [],
   "source": [
    "rng = np.random.default_rng(seed=12345)"
   ]
  },
  {
   "cell_type": "code",
   "execution_count": 6,
   "id": "399b09c9-4489-4d0c-b615-b7cfefd61b26",
   "metadata": {},
   "outputs": [],
   "source": [
    "def coin_outcome(p):\n",
    "    assert 0 <= p <= 1, print(\n",
    "        \"The probability `p` of getting heads must be between 0 and 1 inclusive.\"\n",
    "    )\n",
    "    rval = rng.random()\n",
    "    if rval < p:\n",
    "        return \"Heads\"\n",
    "    else:\n",
    "        return \"Tails\""
   ]
  },
  {
   "cell_type": "code",
   "execution_count": 7,
   "id": "b86cab3c-e6fe-41a6-8c76-a24cda702469",
   "metadata": {},
   "outputs": [],
   "source": [
    "def coin_outcome_array(p, n_samples):\n",
    "    assert 0 <= p <= 1, print(\n",
    "        \"The probability `p` of getting heads must be between 0 and 1 inclusive.\"\n",
    "    )\n",
    "    values = [1 if (coin_outcome(p) == \"Heads\") else -1 for _ in range(n_samples)]\n",
    "    return np.array(values)"
   ]
  },
  {
   "cell_type": "code",
   "execution_count": 8,
   "id": "503d0b20-98e9-49e0-88e5-d4621a69f72f",
   "metadata": {},
   "outputs": [
    {
     "name": "stdout",
     "output_type": "stream",
     "text": [
      "613.8\n",
      "7398.6\n"
     ]
    }
   ],
   "source": [
    "def game(p):\n",
    "    assert 0 <= p <= 1, print(\n",
    "        \"The probability `p` of getting heads must be between 0 and 1 inclusive.\"\n",
    "    )\n",
    "    counter = 0\n",
    "    balance = 50\n",
    "    while 0 < balance < 150:\n",
    "        counter += 1\n",
    "        rval = rng.random()\n",
    "        if rval < p:\n",
    "            balance += 1\n",
    "        else:\n",
    "            balance -= 1\n",
    "\n",
    "    return counter\n",
    "\n",
    "\n",
    "print(np.mean([game(0.45) for _ in range(10)]))\n",
    "print(np.mean([game(0.5) for _ in range(10)]))"
   ]
  },
  {
   "cell_type": "markdown",
   "id": "22625206-7086-4080-b635-97d2d2ccf349",
   "metadata": {},
   "source": [
    "## Problem 3: More functions"
   ]
  },
  {
   "cell_type": "code",
   "execution_count": 9,
   "id": "a79e5665-75c1-4720-89b1-80747e6d3654",
   "metadata": {},
   "outputs": [
    {
     "name": "stdout",
     "output_type": "stream",
     "text": [
      "10\n",
      "0.0\n",
      "-2.5\n"
     ]
    }
   ],
   "source": [
    "def evaluate_left_to_right(tokens):\n",
    "    values = []\n",
    "    operators = []\n",
    "    for token in tokens:\n",
    "        if type(token) in [int, float]:\n",
    "            values.append(token)\n",
    "        else:\n",
    "            operators.append(token)\n",
    "\n",
    "    result = values[0]\n",
    "    for i in range(0, len(values) - 1):\n",
    "        if operators[i] == \"+\":\n",
    "            result += values[i + 1]\n",
    "        elif operators[i] == \"-\":\n",
    "            result -= values[i + 1]\n",
    "        elif operators[i] == \"*\":\n",
    "            result *= values[i + 1]\n",
    "        elif operators[i] == \"/\":\n",
    "            result /= values[i + 1]\n",
    "\n",
    "    return result\n",
    "\n",
    "\n",
    "print(evaluate_left_to_right([2, \"+\", 4, \"-\", 5, \"*\", 10]))  # Should be 10\n",
    "print(evaluate_left_to_right([0, \"*\", 35, \"/\", 3]))  # Should be 0\n",
    "print(evaluate_left_to_right([1, \"/\", 2, \"*\", 3, \"-\", 4]))  # Should be -2.5"
   ]
  },
  {
   "cell_type": "code",
   "execution_count": 10,
   "id": "8090c279-c0d1-4fae-b0c0-363fcfd97162",
   "metadata": {},
   "outputs": [
    {
     "name": "stdout",
     "output_type": "stream",
     "text": [
      "4\n",
      "72\n",
      "-44\n",
      "-164\n"
     ]
    }
   ],
   "source": [
    "def evaluate_properly(tokens):\n",
    "    values = []\n",
    "    operators = []\n",
    "    for token in tokens:\n",
    "        if type(token) in [int, float]:\n",
    "            values.append(token)\n",
    "        else:\n",
    "            operators.append(token)\n",
    "\n",
    "    # The cases that order is already left-to-right\n",
    "    # Using evaluate_left_to_right() for cleanliness\n",
    "    if (not (\"+\" in operators or \"-\" in operators)) or (\n",
    "        not (\"*\" in operators or \"/\" in operators)\n",
    "    ):\n",
    "        return evaluate_left_to_right(tokens)\n",
    "\n",
    "    # Change all [x, *, y] to [x*y, +, 0] (for / as well)\n",
    "    for i in range(0, len(operators)):\n",
    "        if operators[i] in [\"*\", \"/\"]:\n",
    "            if operators[i] == \"*\":\n",
    "                replacement = values[i] * values[i + 1]\n",
    "            elif operators[i] == \"/\":\n",
    "                replacement = values[i] / values[i + 1]\n",
    "\n",
    "            operators[i] = \"+\"\n",
    "            values[i] = replacement\n",
    "            values[i + 1] = 0\n",
    "\n",
    "    # Now that it can be done left to right, give the new list of tokens to evaluate_left_to_right()\n",
    "    return evaluate_left_to_right(\n",
    "        [pair[i] for i in [0, 1] for pair in zip(values, operators)]\n",
    "    )\n",
    "\n",
    "\n",
    "print(evaluate_properly([1, \"+\", 3]))  # Should be 4\n",
    "print(evaluate_properly([9, \"*\", 8]))  # Should be 72\n",
    "print(evaluate_properly([2, \"+\", 4, \"-\", 5, \"*\", 10]))  # Should be -44\n",
    "print(\n",
    "    evaluate_properly([2, \"+\", 4, \"-\", 5, \"*\", 10, \"-\", 10, \"*\", 12])\n",
    ")  # Should be -164"
   ]
  }
 ],
 "metadata": {
  "kernelspec": {
   "display_name": "Python 3 (ipykernel)",
   "language": "python",
   "name": "python3"
  },
  "language_info": {
   "codemirror_mode": {
    "name": "ipython",
    "version": 3
   },
   "file_extension": ".py",
   "mimetype": "text/x-python",
   "name": "python",
   "nbconvert_exporter": "python",
   "pygments_lexer": "ipython3",
   "version": "3.12.1"
  }
 },
 "nbformat": 4,
 "nbformat_minor": 5
}
