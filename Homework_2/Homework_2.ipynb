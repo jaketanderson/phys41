{
 "cells": [
  {
   "cell_type": "markdown",
   "id": "3230935f-7d3e-4995-9d88-8792a4834bfd",
   "metadata": {},
   "source": [
    "# Phys 41 Homework 1 Jake Anderson 1/11/2024"
   ]
  },
  {
   "cell_type": "markdown",
   "id": "73828ae7-3814-4fbb-8ae5-9e7471e4f217",
   "metadata": {},
   "source": [
    "## Problem 1: Basic numpy"
   ]
  },
  {
   "cell_type": "code",
   "execution_count": 1,
   "id": "928346dd-e913-48ee-9a81-0951ad6bc1f9",
   "metadata": {},
   "outputs": [],
   "source": [
    "import numpy as np"
   ]
  },
  {
   "cell_type": "markdown",
   "id": "6776375a-a4ae-44f8-8a1f-9c7c876fc5f6",
   "metadata": {},
   "source": [
    "## Problem 1: Basic numpy"
   ]
  },
  {
   "cell_type": "code",
   "execution_count": 6,
   "id": "c8763463-66f7-4b74-856b-6cfb9007cc52",
   "metadata": {},
   "outputs": [],
   "source": [
    "def wave(t, omega, n, phi):\n",
    "    return np.sin((omega * t) ** n + phi)"
   ]
  },
  {
   "cell_type": "code",
   "execution_count": 13,
   "id": "2ed5286b-c278-4d35-a9ab-1e3ab560a129",
   "metadata": {},
   "outputs": [],
   "source": [
    "def quadratic(a, b, c):\n",
    "    sol1 = (-1 * b + np.sqrt(b**2 - 4 * a * c + 0j)) / (2 * a)\n",
    "    sol2 = (-1 * b - np.sqrt(b**2 - 4 * a * c + 0j)) / (2 * a)\n",
    "    return (sol1, sol2)"
   ]
  },
  {
   "cell_type": "code",
   "execution_count": 40,
   "id": "33b8714a-4b22-4719-98b7-52cff45cc3ec",
   "metadata": {},
   "outputs": [],
   "source": [
    "def grid_function(grid_points):\n",
    "    x, y, z = grid_points\n",
    "    return x * y**2 + z"
   ]
  },
  {
   "cell_type": "code",
   "execution_count": 99,
   "id": "1022a36d-d5d5-49b7-9b68-5b5116abb3a3",
   "metadata": {},
   "outputs": [
    {
     "name": "stdout",
     "output_type": "stream",
     "text": [
      "(10, 10, 10)\n",
      "3.0\n"
     ]
    }
   ],
   "source": [
    "x = np.linspace(-1, 1, 10)\n",
    "y = np.linspace(-2, 2, 10)\n",
    "z = np.linspace(-3, 3, 10)\n",
    "\n",
    "grid_points = np.meshgrid(x, y, z)\n",
    "result = grid_function(grid_points)\n",
    "print(result.shape)\n",
    "\n",
    "# For a specific point (x, y, z) on the grid, we can get the result there like this:\n",
    "point = [1, 2, -1]\n",
    "x_index = np.where(x == point[0])[0][0] # The 2 trailing [0]'s are to get it to an integer\n",
    "y_index = np.where(y == point[1])[0][0]\n",
    "z_index = np.where(z == point[2])[0][0]\n",
    "print(result[x_index][y_index][z_index])"
   ]
  }
 ],
 "metadata": {
  "kernelspec": {
   "display_name": "Python 3 (ipykernel)",
   "language": "python",
   "name": "python3"
  },
  "language_info": {
   "codemirror_mode": {
    "name": "ipython",
    "version": 3
   },
   "file_extension": ".py",
   "mimetype": "text/x-python",
   "name": "python",
   "nbconvert_exporter": "python",
   "pygments_lexer": "ipython3",
   "version": "3.12.1"
  }
 },
 "nbformat": 4,
 "nbformat_minor": 5
}
